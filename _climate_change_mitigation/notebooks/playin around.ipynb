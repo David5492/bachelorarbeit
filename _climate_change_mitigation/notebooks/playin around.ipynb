{
 "cells": [
  {
   "cell_type": "code",
   "execution_count": 2,
   "metadata": {},
   "outputs": [],
   "source": [
    "import numpy as np\n",
    "import pandas as pd\n",
    "\n",
    "df = pd.read_csv('C:/Users/test/Documents/GitHub/bachelorarbeit/_climate_change_mitigation/data/processed/berlin_num_imputed_clean_modelling.csv')"
   ]
  },
  {
   "cell_type": "code",
   "execution_count": 2,
   "metadata": {},
   "outputs": [],
   "source": [
    "df_arr = df.values\n",
    "X = df.iloc[:,1:]\n",
    "y = df.iloc[:,0]"
   ]
  },
  {
   "cell_type": "markdown",
   "metadata": {},
   "source": [
    "----"
   ]
  },
  {
   "cell_type": "code",
   "execution_count": null,
   "metadata": {},
   "outputs": [],
   "source": [
    "# Import the necessary modules\n",
    "\n",
    "from sklearn.model_selection import train_test_split\n",
    "from sklearn.model_selection import GridSearchCV\n",
    "from sklearn.impute import SimpleImputer\n",
    "from sklearn.preprocessing import StandardScaler\n",
    "from sklearn.linear_model import ElasticNet\n",
    "from sklearn.preprocessing import StandardScaler\n",
    "from sklearn.pipeline import Pipeline\n",
    "\n",
    "# Setup the pipeline steps: steps\n",
    "steps = [('imputation', SimpleImputer(missing_values= np.nan, strategy='mean')),\n",
    "         ('scaler', StandardScaler()),\n",
    "         ('elasticnet', ElasticNet(max_iter = 1000))]\n",
    "\n",
    "# Create the pipeline: pipeline \n",
    "pipeline = Pipeline(steps)\n",
    "\n",
    "# Specify the hyperparameter space\n",
    "parameters = {'elasticnet__l1_ratio':np.linspace(0,1,30)}\n",
    "\n",
    "# Create train and test sets\n",
    "X_train, X_test, y_train, y_test = train_test_split(X,y,test_size=0.4, random_state=42)\n",
    "\n",
    "# Create the GridSearchCV object: gm_cv\n",
    "gm_cv = GridSearchCV(pipeline, parameters, cv=3)\n",
    "\n",
    "# Fit to the training set\n",
    "gm_cv.fit(X_train, y_train)\n",
    "\n",
    "# Compute and print the metrics\n",
    "r2 = gm_cv.score(X_test, y_test)\n",
    "print(\"Tuned ElasticNet Alpha: {}\".format(gm_cv.best_params_))\n",
    "print(\"Tuned ElasticNet R squared: {}\".format(r2))"
   ]
  },
  {
   "cell_type": "code",
   "execution_count": 15,
   "metadata": {},
   "outputs": [
    {
     "name": "stdout",
     "output_type": "stream",
     "text": [
      "[[-0.62414218  0.01720105 -0.91220505 ... -0.25141326  2.33581709\n",
      "  -0.32881565]\n",
      " [-0.24727145  0.2909669   0.24870777 ... -0.25141326  3.32379228\n",
      "  -0.32881565]\n",
      " [ 0.94690932 -0.02526775 -0.52523411 ... -0.25141326 -0.29055483\n",
      "  -0.32881565]\n",
      " ...\n",
      " [ 0.84701587 -0.03895604  0.00685094 ... -0.25141326 -0.29055483\n",
      "  -0.32881565]\n",
      " [-0.11786403 -0.00736768 -0.13826317 ... -0.25141326 -0.29055483\n",
      "   4.87785248]\n",
      " [ 0.64268836  0.13302506 -0.2350059  ... -0.25141326 -0.29055483\n",
      "  -0.32881565]]\n"
     ]
    }
   ],
   "source": [
    "from sklearn.preprocessing import scale\n",
    "\n",
    "scaler = StandardScaler().fit(df)\n",
    "df_scaled = scaler.transform(df)\n",
    "print(df_scaled)"
   ]
  },
  {
   "cell_type": "code",
   "execution_count": 17,
   "metadata": {},
   "outputs": [
    {
     "name": "stdout",
     "output_type": "stream",
     "text": [
      "            0         1         2         3         4         5         6    \\\n",
      "0     -0.624142  0.017201 -0.912205 -0.588551 -0.023854 -0.354124 -0.338078   \n",
      "1     -0.247271  0.290967  0.248708  0.886789  1.109160  1.807895  1.453514   \n",
      "2      0.946909 -0.025268 -0.525234       NaN -0.176870 -0.099378 -0.338078   \n",
      "3     -0.081539 -0.016328  0.252868 -1.642365 -0.053173  0.229577 -0.338078   \n",
      "4     -0.099702 -0.111258 -0.573605 -0.925771 -0.468884 -1.054123 -1.233874   \n",
      "...         ...       ...       ...       ...       ...       ...       ...   \n",
      "16936 -0.826199 -0.090789 -0.389794 -0.567475 -0.318999 -0.066981  0.557718   \n",
      "16937 -1.650320 -0.127052 -0.670348 -0.757161 -0.533127 -0.987944 -1.233874   \n",
      "16938  0.847016 -0.038956  0.006851 -0.272407 -0.158181 -0.160573 -0.338078   \n",
      "16939 -0.117864 -0.007368 -0.138263  0.886789  0.069590  0.273880  0.557718   \n",
      "16940  0.642688  0.133025 -0.235006  0.465263  0.501771  0.617234  0.557718   \n",
      "\n",
      "            7         8         9    ...       326       327       328  \\\n",
      "0           NaN       NaN -1.166500  ...  1.930258  5.731729 -0.261328   \n",
      "1      1.647736  3.129306 -1.907942  ...  2.845527 -0.317543 -0.261328   \n",
      "2           NaN       NaN -0.869923  ... -0.502838 -0.317543 -0.261328   \n",
      "3           NaN       NaN -0.425058  ... -0.502838 -0.317543 -0.261328   \n",
      "4           NaN       NaN -1.166500  ... -0.502838 -0.317543 -0.261328   \n",
      "...         ...       ...       ...  ...       ...       ...       ...   \n",
      "16936       NaN       NaN  0.983682  ... -0.502838 -0.317543 -0.261328   \n",
      "16937       NaN       NaN  0.909538  ... -0.502838  1.647557 -0.261328   \n",
      "16938 -0.709903 -0.277128 -0.820494  ... -0.502838 -0.317543 -0.261328   \n",
      "16939  0.468916 -0.277128  1.206115  ... -0.502838 -0.317543 -0.261328   \n",
      "16940  0.468916 -0.277128 -0.993497  ...  1.617427 -0.317543 -0.261328   \n",
      "\n",
      "            329       330       331       332       333       334       335  \n",
      "0     -0.254310 -0.307727 -0.307708 -0.363827 -0.251413  2.335817 -0.328816  \n",
      "1     -0.254310 -0.307727  3.011087 -0.363827 -0.251413  3.323792 -0.328816  \n",
      "2     -0.254310 -0.307727 -0.307708 -0.363827 -0.251413 -0.290555 -0.328816  \n",
      "3     -0.254310 -0.307727 -0.307708 -0.363827 -0.251413 -0.290555 -0.328816  \n",
      "4     -0.254310  1.576571 -0.307708 -0.363827 -0.251413 -0.290555 -0.328816  \n",
      "...         ...       ...       ...       ...       ...       ...       ...  \n",
      "16936 -0.254310  3.690186 -0.307708 -0.363827 -0.251413 -0.290555 -0.328816  \n",
      "16937  2.736619 -0.307727 -0.307708 -0.363827 -0.251413 -0.290555 -0.328816  \n",
      "16938 -0.254310 -0.307727  3.287904 -0.363827 -0.251413 -0.290555 -0.328816  \n",
      "16939 -0.254310 -0.307727 -0.307708 -0.363827 -0.251413 -0.290555  4.877852  \n",
      "16940 -0.254310 -0.307727 -0.307708 -0.363827 -0.251413 -0.290555 -0.328816  \n",
      "\n",
      "[16941 rows x 336 columns]\n"
     ]
    }
   ],
   "source": [
    "print(pd.DataFrame(df_scaled))"
   ]
  },
  {
   "cell_type": "code",
   "execution_count": 19,
   "metadata": {},
   "outputs": [
    {
     "data": {
      "text/html": [
       "<div>\n",
       "<style scoped>\n",
       "    .dataframe tbody tr th:only-of-type {\n",
       "        vertical-align: middle;\n",
       "    }\n",
       "\n",
       "    .dataframe tbody tr th {\n",
       "        vertical-align: top;\n",
       "    }\n",
       "\n",
       "    .dataframe thead th {\n",
       "        text-align: right;\n",
       "    }\n",
       "</style>\n",
       "<table border=\"1\" class=\"dataframe\">\n",
       "  <thead>\n",
       "    <tr style=\"text-align: right;\">\n",
       "      <th></th>\n",
       "      <th>energy_consumption</th>\n",
       "      <th>rent</th>\n",
       "      <th>utilities_cost</th>\n",
       "      <th>heating_cost</th>\n",
       "      <th>cost_total</th>\n",
       "      <th>area</th>\n",
       "      <th>rooms</th>\n",
       "      <th>bedrooms</th>\n",
       "      <th>bathrooms</th>\n",
       "      <th>year_built</th>\n",
       "      <th>...</th>\n",
       "      <th>quality_of_appliances_Gehobene Qualität</th>\n",
       "      <th>quality_of_appliances_Luxus</th>\n",
       "      <th>quality_of_appliances_Normale Qualität</th>\n",
       "      <th>heating_type_Blockheizkraftwerke</th>\n",
       "      <th>heating_type_Elektro-Heizung</th>\n",
       "      <th>heating_type_Etagenheizung</th>\n",
       "      <th>heating_type_Fernwärme</th>\n",
       "      <th>heating_type_Fußbodenheizung</th>\n",
       "      <th>heating_type_Gas-Heizung</th>\n",
       "      <th>heating_type_Holz-Pelletheizung</th>\n",
       "    </tr>\n",
       "  </thead>\n",
       "  <tbody>\n",
       "    <tr>\n",
       "      <th>count</th>\n",
       "      <td>16941.000000</td>\n",
       "      <td>16941.000000</td>\n",
       "      <td>16839.000000</td>\n",
       "      <td>11469.000000</td>\n",
       "      <td>16941.000000</td>\n",
       "      <td>16941.000000</td>\n",
       "      <td>16941.000000</td>\n",
       "      <td>10111.000000</td>\n",
       "      <td>12759.000000</td>\n",
       "      <td>16292.000000</td>\n",
       "      <td>...</td>\n",
       "      <td>16941.000000</td>\n",
       "      <td>16941.000000</td>\n",
       "      <td>16941.000000</td>\n",
       "      <td>16941.000000</td>\n",
       "      <td>16941.000000</td>\n",
       "      <td>16941.000000</td>\n",
       "      <td>16941.000000</td>\n",
       "      <td>16941.000000</td>\n",
       "      <td>16941.000000</td>\n",
       "      <td>16941.000000</td>\n",
       "    </tr>\n",
       "    <tr>\n",
       "      <th>mean</th>\n",
       "      <td>130.391549</td>\n",
       "      <td>820.991622</td>\n",
       "      <td>154.291840</td>\n",
       "      <td>77.924789</td>\n",
       "      <td>1000.422286</td>\n",
       "      <td>72.708982</td>\n",
       "      <td>2.377405</td>\n",
       "      <td>1.602215</td>\n",
       "      <td>1.081354</td>\n",
       "      <td>1947.198564</td>\n",
       "      <td>...</td>\n",
       "      <td>0.279381</td>\n",
       "      <td>0.018358</td>\n",
       "      <td>0.387167</td>\n",
       "      <td>0.000826</td>\n",
       "      <td>0.000472</td>\n",
       "      <td>0.088956</td>\n",
       "      <td>0.130512</td>\n",
       "      <td>0.011747</td>\n",
       "      <td>0.019361</td>\n",
       "      <td>0.000059</td>\n",
       "    </tr>\n",
       "    <tr>\n",
       "      <th>std</th>\n",
       "      <td>44.048233</td>\n",
       "      <td>2849.234254</td>\n",
       "      <td>103.370004</td>\n",
       "      <td>47.448758</td>\n",
       "      <td>856.148341</td>\n",
       "      <td>36.115443</td>\n",
       "      <td>1.116358</td>\n",
       "      <td>0.848348</td>\n",
       "      <td>0.293574</td>\n",
       "      <td>40.462935</td>\n",
       "      <td>...</td>\n",
       "      <td>0.448708</td>\n",
       "      <td>0.134246</td>\n",
       "      <td>0.487117</td>\n",
       "      <td>0.028736</td>\n",
       "      <td>0.021726</td>\n",
       "      <td>0.284688</td>\n",
       "      <td>0.336876</td>\n",
       "      <td>0.107747</td>\n",
       "      <td>0.137795</td>\n",
       "      <td>0.007683</td>\n",
       "    </tr>\n",
       "    <tr>\n",
       "      <th>min</th>\n",
       "      <td>0.200000</td>\n",
       "      <td>0.000000</td>\n",
       "      <td>0.000000</td>\n",
       "      <td>0.000000</td>\n",
       "      <td>0.000000</td>\n",
       "      <td>12.000000</td>\n",
       "      <td>1.000000</td>\n",
       "      <td>0.000000</td>\n",
       "      <td>0.000000</td>\n",
       "      <td>1079.000000</td>\n",
       "      <td>...</td>\n",
       "      <td>0.000000</td>\n",
       "      <td>0.000000</td>\n",
       "      <td>0.000000</td>\n",
       "      <td>0.000000</td>\n",
       "      <td>0.000000</td>\n",
       "      <td>0.000000</td>\n",
       "      <td>0.000000</td>\n",
       "      <td>0.000000</td>\n",
       "      <td>0.000000</td>\n",
       "      <td>0.000000</td>\n",
       "    </tr>\n",
       "    <tr>\n",
       "      <th>25%</th>\n",
       "      <td>101.700000</td>\n",
       "      <td>501.190000</td>\n",
       "      <td>93.000000</td>\n",
       "      <td>50.000000</td>\n",
       "      <td>657.000000</td>\n",
       "      <td>51.850000</td>\n",
       "      <td>2.000000</td>\n",
       "      <td>1.000000</td>\n",
       "      <td>1.000000</td>\n",
       "      <td>1908.000000</td>\n",
       "      <td>...</td>\n",
       "      <td>0.000000</td>\n",
       "      <td>0.000000</td>\n",
       "      <td>0.000000</td>\n",
       "      <td>0.000000</td>\n",
       "      <td>0.000000</td>\n",
       "      <td>0.000000</td>\n",
       "      <td>0.000000</td>\n",
       "      <td>0.000000</td>\n",
       "      <td>0.000000</td>\n",
       "      <td>0.000000</td>\n",
       "    </tr>\n",
       "    <tr>\n",
       "      <th>50%</th>\n",
       "      <td>125.000000</td>\n",
       "      <td>664.000000</td>\n",
       "      <td>130.000000</td>\n",
       "      <td>70.000000</td>\n",
       "      <td>843.000000</td>\n",
       "      <td>65.060000</td>\n",
       "      <td>2.000000</td>\n",
       "      <td>1.000000</td>\n",
       "      <td>1.000000</td>\n",
       "      <td>1957.000000</td>\n",
       "      <td>...</td>\n",
       "      <td>0.000000</td>\n",
       "      <td>0.000000</td>\n",
       "      <td>0.000000</td>\n",
       "      <td>0.000000</td>\n",
       "      <td>0.000000</td>\n",
       "      <td>0.000000</td>\n",
       "      <td>0.000000</td>\n",
       "      <td>0.000000</td>\n",
       "      <td>0.000000</td>\n",
       "      <td>0.000000</td>\n",
       "    </tr>\n",
       "    <tr>\n",
       "      <th>75%</th>\n",
       "      <td>152.000000</td>\n",
       "      <td>920.000000</td>\n",
       "      <td>185.000000</td>\n",
       "      <td>96.000000</td>\n",
       "      <td>1134.000000</td>\n",
       "      <td>84.000000</td>\n",
       "      <td>3.000000</td>\n",
       "      <td>2.000000</td>\n",
       "      <td>1.000000</td>\n",
       "      <td>1984.000000</td>\n",
       "      <td>...</td>\n",
       "      <td>1.000000</td>\n",
       "      <td>0.000000</td>\n",
       "      <td>1.000000</td>\n",
       "      <td>0.000000</td>\n",
       "      <td>0.000000</td>\n",
       "      <td>0.000000</td>\n",
       "      <td>0.000000</td>\n",
       "      <td>0.000000</td>\n",
       "      <td>0.000000</td>\n",
       "      <td>0.000000</td>\n",
       "    </tr>\n",
       "    <tr>\n",
       "      <th>max</th>\n",
       "      <td>1914.000000</td>\n",
       "      <td>365000.000000</td>\n",
       "      <td>3291.000000</td>\n",
       "      <td>1431.000000</td>\n",
       "      <td>77597.000000</td>\n",
       "      <td>1431.000000</td>\n",
       "      <td>54.000000</td>\n",
       "      <td>7.000000</td>\n",
       "      <td>3.000000</td>\n",
       "      <td>2019.000000</td>\n",
       "      <td>...</td>\n",
       "      <td>1.000000</td>\n",
       "      <td>1.000000</td>\n",
       "      <td>1.000000</td>\n",
       "      <td>1.000000</td>\n",
       "      <td>1.000000</td>\n",
       "      <td>1.000000</td>\n",
       "      <td>1.000000</td>\n",
       "      <td>1.000000</td>\n",
       "      <td>1.000000</td>\n",
       "      <td>1.000000</td>\n",
       "    </tr>\n",
       "  </tbody>\n",
       "</table>\n",
       "<p>8 rows × 50 columns</p>\n",
       "</div>"
      ],
      "text/plain": [
       "       energy_consumption           rent  utilities_cost  heating_cost  \\\n",
       "count        16941.000000   16941.000000    16839.000000  11469.000000   \n",
       "mean           130.391549     820.991622      154.291840     77.924789   \n",
       "std             44.048233    2849.234254      103.370004     47.448758   \n",
       "min              0.200000       0.000000        0.000000      0.000000   \n",
       "25%            101.700000     501.190000       93.000000     50.000000   \n",
       "50%            125.000000     664.000000      130.000000     70.000000   \n",
       "75%            152.000000     920.000000      185.000000     96.000000   \n",
       "max           1914.000000  365000.000000     3291.000000   1431.000000   \n",
       "\n",
       "         cost_total          area         rooms      bedrooms     bathrooms  \\\n",
       "count  16941.000000  16941.000000  16941.000000  10111.000000  12759.000000   \n",
       "mean    1000.422286     72.708982      2.377405      1.602215      1.081354   \n",
       "std      856.148341     36.115443      1.116358      0.848348      0.293574   \n",
       "min        0.000000     12.000000      1.000000      0.000000      0.000000   \n",
       "25%      657.000000     51.850000      2.000000      1.000000      1.000000   \n",
       "50%      843.000000     65.060000      2.000000      1.000000      1.000000   \n",
       "75%     1134.000000     84.000000      3.000000      2.000000      1.000000   \n",
       "max    77597.000000   1431.000000     54.000000      7.000000      3.000000   \n",
       "\n",
       "         year_built  ...  quality_of_appliances_Gehobene Qualität  \\\n",
       "count  16292.000000  ...                             16941.000000   \n",
       "mean    1947.198564  ...                                 0.279381   \n",
       "std       40.462935  ...                                 0.448708   \n",
       "min     1079.000000  ...                                 0.000000   \n",
       "25%     1908.000000  ...                                 0.000000   \n",
       "50%     1957.000000  ...                                 0.000000   \n",
       "75%     1984.000000  ...                                 1.000000   \n",
       "max     2019.000000  ...                                 1.000000   \n",
       "\n",
       "       quality_of_appliances_Luxus  quality_of_appliances_Normale Qualität  \\\n",
       "count                 16941.000000                            16941.000000   \n",
       "mean                      0.018358                                0.387167   \n",
       "std                       0.134246                                0.487117   \n",
       "min                       0.000000                                0.000000   \n",
       "25%                       0.000000                                0.000000   \n",
       "50%                       0.000000                                0.000000   \n",
       "75%                       0.000000                                1.000000   \n",
       "max                       1.000000                                1.000000   \n",
       "\n",
       "       heating_type_Blockheizkraftwerke  heating_type_Elektro-Heizung  \\\n",
       "count                      16941.000000                  16941.000000   \n",
       "mean                           0.000826                      0.000472   \n",
       "std                            0.028736                      0.021726   \n",
       "min                            0.000000                      0.000000   \n",
       "25%                            0.000000                      0.000000   \n",
       "50%                            0.000000                      0.000000   \n",
       "75%                            0.000000                      0.000000   \n",
       "max                            1.000000                      1.000000   \n",
       "\n",
       "       heating_type_Etagenheizung  heating_type_Fernwärme  \\\n",
       "count                16941.000000            16941.000000   \n",
       "mean                     0.088956                0.130512   \n",
       "std                      0.284688                0.336876   \n",
       "min                      0.000000                0.000000   \n",
       "25%                      0.000000                0.000000   \n",
       "50%                      0.000000                0.000000   \n",
       "75%                      0.000000                0.000000   \n",
       "max                      1.000000                1.000000   \n",
       "\n",
       "       heating_type_Fußbodenheizung  heating_type_Gas-Heizung  \\\n",
       "count                  16941.000000              16941.000000   \n",
       "mean                       0.011747                  0.019361   \n",
       "std                        0.107747                  0.137795   \n",
       "min                        0.000000                  0.000000   \n",
       "25%                        0.000000                  0.000000   \n",
       "50%                        0.000000                  0.000000   \n",
       "75%                        0.000000                  0.000000   \n",
       "max                        1.000000                  1.000000   \n",
       "\n",
       "       heating_type_Holz-Pelletheizung  \n",
       "count                     16941.000000  \n",
       "mean                          0.000059  \n",
       "std                           0.007683  \n",
       "min                           0.000000  \n",
       "25%                           0.000000  \n",
       "50%                           0.000000  \n",
       "75%                           0.000000  \n",
       "max                           1.000000  \n",
       "\n",
       "[8 rows x 50 columns]"
      ]
     },
     "execution_count": 19,
     "metadata": {},
     "output_type": "execute_result"
    }
   ],
   "source": [
    "df.iloc[:,0:50].describe()"
   ]
  },
  {
   "cell_type": "code",
   "execution_count": 20,
   "metadata": {},
   "outputs": [
    {
     "data": {
      "image/png": "[encoded data removed]",
      "text/plain": [
       "<Figure size 432x288 with 1 Axes>"
      ]
     },
     "metadata": {
      "needs_background": "light"
     },
     "output_type": "display_data"
    }
   ],
   "source": [
    "import matplotlib.pyplot as plt\n",
    "\n",
    "_ = plt.boxplot(df['energy_consumption'])\n",
    "plt.show()"
   ]
  },
  {
   "cell_type": "code",
   "execution_count": 30,
   "metadata": {},
   "outputs": [
    {
     "name": "stderr",
     "output_type": "stream",
     "text": [
      "C:\\Users\\test\\anaconda3\\lib\\site-packages\\scipy\\stats\\stats.py:2419: RuntimeWarning: invalid value encountered in true_divide\n",
      "  return (a - mns) / sstd\n",
      "C:\\Users\\test\\anaconda3\\lib\\site-packages\\ipykernel_launcher.py:5: RuntimeWarning: invalid value encountered in less\n",
      "  \"\"\"\n"
     ]
    },
    {
     "data": {
      "image/png": "[encoded data removed]",
      "text/plain": [
       "<Figure size 432x288 with 1 Axes>"
      ]
     },
     "metadata": {
      "needs_background": "light"
     },
     "output_type": "display_data"
    }
   ],
   "source": [
    "from scipy import stats\n",
    "\n",
    "z_scores = stats.zscore(df)\n",
    "abs_z_scores = np.abs(z_scores)\n",
    "filtered_entries = (abs_z_scores < 3).any(axis=1)\n",
    "new_df = df[filtered_entries]\n",
    "new_df\n",
    "\n",
    "_ = plt.boxplot(new_df['energy_consumption'])\n",
    "plt.show()"
   ]
  },
  {
   "cell_type": "code",
   "execution_count": null,
   "metadata": {},
   "outputs": [],
   "source": [
    "import pandas as pd\n",
    "import matplotlib.pyplot as plt\n",
    "\n",
    "df = pd.read_csv(\"C:/Users/test/Documents/GitHub/bachelorarbeit/_climate_change_mitigation/data/processed/berlin_num_imputed_clean_EDA.csv\")\n",
    "\n",
    "numericals = ['energy_consumption','rent','utilities_cost','heating_cost','cost_total',\n",
    "                'area','rooms','bedrooms','bathrooms','year_built',\n",
    "                'last_renovated','latitude','longitude','floor_act',\n",
    "                'floor_max','parking_spaces']\n",
    "\n",
    "df = df[numericals].fillna(np.median())\n",
    "\n",
    "df_new = pd.DataFrame()\n",
    "\n",
    "for col in df.columns:  \n",
    "    series = df[np.abs(df[col]-df[col].mean()) <= (3*df[col].std())]\n",
    "    df_new = pd.concat([df_new, series], axis = 1)\n",
    "\n",
    "\n",
    "_ = plt.boxplot(df_new['energy_consumption'])\n",
    "plt.show()"
   ]
  },
  {
   "cell_type": "code",
   "execution_count": 4,
   "metadata": {},
   "outputs": [
    {
     "name": "stdout",
     "output_type": "stream",
     "text": [
      "<class 'pandas.core.frame.DataFrame'>\n",
      "RangeIndex: 16272 entries, 0 to 16271\n",
      "Data columns (total 31 columns):\n",
      " #   Column                   Non-Null Count  Dtype  \n",
      "---  ------                   --------------  -----  \n",
      " 0   type                     15298 non-null  object \n",
      " 1   rent                     16272 non-null  float64\n",
      " 2   utilities_cost           16272 non-null  float64\n",
      " 3   heating_cost             16272 non-null  float64\n",
      " 4   cost_total               16272 non-null  float64\n",
      " 5   area                     16272 non-null  float64\n",
      " 6   rooms                    16272 non-null  float64\n",
      " 7   pets                     10281 non-null  object \n",
      " 8   condition                13965 non-null  object \n",
      " 9   quality_of_appliances    11384 non-null  object \n",
      " 10  heating_type             15046 non-null  object \n",
      " 11  energy_certificate_type  16272 non-null  object \n",
      " 12  ground_plan              16272 non-null  object \n",
      " 13  year_built               16272 non-null  int64  \n",
      " 14  last_renovated           16272 non-null  int64  \n",
      " 15  latitude                 16272 non-null  float64\n",
      " 16  longitude                16272 non-null  float64\n",
      " 17  description_location     15422 non-null  object \n",
      " 18  description_misc         13641 non-null  object \n",
      " 19  energy_sources           15574 non-null  object \n",
      " 20  bedrooms                 16272 non-null  int64  \n",
      " 21  bathrooms                16272 non-null  int64  \n",
      " 22  floor_act                16272 non-null  int64  \n",
      " 23  floor_max                16272 non-null  int64  \n",
      " 24  energy_consumption       16272 non-null  float64\n",
      " 25  city_code                16272 non-null  int64  \n",
      " 26  description_clear        15289 non-null  object \n",
      " 27  equipment_clear          14804 non-null  object \n",
      " 28  parking_spaces           16272 non-null  int64  \n",
      " 29  parking_kind             2164 non-null   object \n",
      " 30  hot_water_included       16272 non-null  object \n",
      "dtypes: float64(9), int64(8), object(14)\n",
      "memory usage: 3.8+ MB\n"
     ]
    }
   ],
   "source": [
    "df.info()"
   ]
  },
  {
   "cell_type": "code",
   "execution_count": 1,
   "metadata": {},
   "outputs": [
    {
     "name": "stdout",
     "output_type": "stream",
     "text": [
      "<class 'pandas.core.frame.DataFrame'>\n",
      "RangeIndex: 16272 entries, 0 to 16271\n",
      "Data columns (total 31 columns):\n",
      " #   Column                   Non-Null Count  Dtype  \n",
      "---  ------                   --------------  -----  \n",
      " 0   type                     15298 non-null  object \n",
      " 1   rent                     16272 non-null  float64\n",
      " 2   utilities_cost           16272 non-null  float64\n",
      " 3   heating_cost             16272 non-null  float64\n",
      " 4   cost_total               16272 non-null  float64\n",
      " 5   area                     16272 non-null  float64\n",
      " 6   rooms                    16272 non-null  float64\n",
      " 7   pets                     10281 non-null  object \n",
      " 8   condition                13965 non-null  object \n",
      " 9   quality_of_appliances    11384 non-null  object \n",
      " 10  heating_type             15046 non-null  object \n",
      " 11  energy_certificate_type  16272 non-null  object \n",
      " 12  ground_plan              16272 non-null  object \n",
      " 13  year_built               16272 non-null  int64  \n",
      " 14  last_renovated           16272 non-null  int64  \n",
      " 15  latitude                 16272 non-null  float64\n",
      " 16  longitude                16272 non-null  float64\n",
      " 17  description_location     15422 non-null  object \n",
      " 18  description_misc         13641 non-null  object \n",
      " 19  energy_sources           15574 non-null  object \n",
      " 20  bedrooms                 16272 non-null  int64  \n",
      " 21  bathrooms                16272 non-null  int64  \n",
      " 22  floor_act                16272 non-null  int64  \n",
      " 23  floor_max                16272 non-null  int64  \n",
      " 24  energy_consumption       16272 non-null  float64\n",
      " 25  city_code                16272 non-null  int64  \n",
      " 26  description_clear        15289 non-null  object \n",
      " 27  equipment_clear          14804 non-null  object \n",
      " 28  parking_spaces           16272 non-null  int64  \n",
      " 29  parking_kind             2164 non-null   object \n",
      " 30  hot_water_included       16272 non-null  object \n",
      "dtypes: float64(9), int64(8), object(14)\n",
      "memory usage: 3.8+ MB\n",
      "None\n"
     ]
    }
   ],
   "source": [
    "import pandas as pd\n",
    "import matplotlib.pyplot as plt\n",
    "\n",
    "df = pd.read_csv(\"C:/Users/test/Documents/GitHub/bachelorarbeit/_climate_change_mitigation/data/processed/berlin_num_imputed_clean_EDA.csv\")\n",
    "\n",
    "numericals = ['energy_consumption','rent','utilities_cost','heating_cost','cost_total',\n",
    "                'area','rooms','bedrooms','bathrooms','year_built',\n",
    "                'last_renovated','latitude','longitude','floor_act',\n",
    "                'floor_max','parking_spaces']\n",
    "\n",
    "print(df.info())\n",
    "\n",
    "\n",
    "# for col in numericals:\n",
    "#     _ = plt.boxplot(df[col])\n",
    "#     _ = plt.title(col)\n",
    "#     plt.show()"
   ]
  },
  {
   "cell_type": "code",
   "execution_count": null,
   "metadata": {},
   "outputs": [
    {
     "name": "stderr",
     "output_type": "stream",
     "text": [
      "C:\\Users\\test\\anaconda3\\lib\\site-packages\\matplotlib\\cbook\\__init__.py:1316: RuntimeWarning: invalid value encountered in less_equal\n",
      "  wiskhi = x[x <= hival]\n",
      "C:\\Users\\test\\anaconda3\\lib\\site-packages\\matplotlib\\cbook\\__init__.py:1323: RuntimeWarning: invalid value encountered in greater_equal\n",
      "  wisklo = x[x >= loval]\n",
      "C:\\Users\\test\\anaconda3\\lib\\site-packages\\matplotlib\\cbook\\__init__.py:1331: RuntimeWarning: invalid value encountered in less\n",
      "  x[x < stats['whislo']],\n",
      "C:\\Users\\test\\anaconda3\\lib\\site-packages\\matplotlib\\cbook\\__init__.py:1332: RuntimeWarning: invalid value encountered in greater\n",
      "  x[x > stats['whishi']],\n"
     ]
    }
   ],
   "source": [
    "import numpy as np\n",
    "\n",
    "contains_outliers = ['energy_consumption','rent','utilities_cost','heating_cost',\n",
    "                     'cost_total','area']\n",
    "\n",
    "df = df[contains_outliers]\n",
    "df = df.fillna(df.median())\n",
    "\n",
    "df_new = pd.DataFrame()\n",
    "\n",
    "for col in df.columns:  \n",
    "    series = df[np.abs(df[col]-df[col].mean()) <= (3*df[col].std())]\n",
    "    df_new = pd.concat([df_new, series], axis = 1)\n",
    "\n",
    "\n",
    "_ = plt.boxplot(df_new['energy_consumption'])\n",
    "plt.show()\n"
   ]
  },
  {
   "cell_type": "code",
   "execution_count": 4,
   "metadata": {},
   "outputs": [
    {
     "name": "stdout",
     "output_type": "stream",
     "text": [
      "(16272, 31)\n",
      "(15383, 6)\n",
      "(15383, 31)\n"
     ]
    }
   ],
   "source": [
    "import numpy as np\n",
    "import pandas as pd \n",
    "import matplotlib.pyplot as plt\n",
    "from scipy import stats\n",
    "\n",
    "df = pd.read_csv(\"C:/Users/test/Documents/GitHub/bachelorarbeit/_climate_change_mitigation/data/processed/berlin_num_imputed_clean_EDA.csv\")\n",
    "\n",
    "contains_outliers = ['energy_consumption','rent','utilities_cost','heating_cost',\n",
    "                     'cost_total','area']\n",
    "\n",
    "df_outliers = df[contains_outliers]\n",
    "df_outliers = df_outliers.fillna(df.median())\n",
    "\n",
    "print(df.shape)\n",
    "print(df_outliers[(np.abs(stats.zscore(df_outliers)) < 3).all(axis=1)].shape)\n",
    "\n",
    "test_df = df[(np.abs(stats.zscore(df_outliers)) < 3).all(axis=1)]\n",
    "print(test_df.shape)"
   ]
  },
  {
   "cell_type": "code",
   "execution_count": 5,
   "metadata": {},
   "outputs": [
    {
     "data": {
      "image/png": "[encoded data removed]",
      "text/plain": [
       "<Figure size 432x288 with 1 Axes>"
      ]
     },
     "metadata": {
      "needs_background": "light"
     },
     "output_type": "display_data"
    },
    {
     "data": {
      "image/png": "[encoded data removed]",
      "text/plain": [
       "<Figure size 432x288 with 1 Axes>"
      ]
     },
     "metadata": {
      "needs_background": "light"
     },
     "output_type": "display_data"
    },
    {
     "data": {
      "image/png": "[encoded data removed]",
      "text/plain": [
       "<Figure size 432x288 with 1 Axes>"
      ]
     },
     "metadata": {
      "needs_background": "light"
     },
     "output_type": "display_data"
    },
    {
     "data": {
      "image/png": "[encoded data removed]",
      "text/plain": [
       "<Figure size 432x288 with 1 Axes>"
      ]
     },
     "metadata": {
      "needs_background": "light"
     },
     "output_type": "display_data"
    },
    {
     "data": {
      "image/png": "[encoded data removed]",
      "text/plain": [
       "<Figure size 432x288 with 1 Axes>"
      ]
     },
     "metadata": {
      "needs_background": "light"
     },
     "output_type": "display_data"
    },
    {
     "data": {
      "image/png": "[encoded data removed]",
      "text/plain": [
       "<Figure size 432x288 with 1 Axes>"
      ]
     },
     "metadata": {
      "needs_background": "light"
     },
     "output_type": "display_data"
    },
    {
     "data": {
      "image/png": "[encoded data removed]",
      "text/plain": [
       "<Figure size 432x288 with 1 Axes>"
      ]
     },
     "metadata": {
      "needs_background": "light"
     },
     "output_type": "display_data"
    },
    {
     "data": {
      "image/png": "[encoded data removed]",
      "text/plain": [
       "<Figure size 432x288 with 1 Axes>"
      ]
     },
     "metadata": {
      "needs_background": "light"
     },
     "output_type": "display_data"
    },
    {
     "data": {
      "image/png": "[encoded data removed]",
      "text/plain": [
       "<Figure size 432x288 with 1 Axes>"
      ]
     },
     "metadata": {
      "needs_background": "light"
     },
     "output_type": "display_data"
    },
    {
     "data": {
      "image/png": "[encoded data removed]",
      "text/plain": [
       "<Figure size 432x288 with 1 Axes>"
      ]
     },
     "metadata": {
      "needs_background": "light"
     },
     "output_type": "display_data"
    },
    {
     "data": {
      "image/png": "[encoded data removed]",
      "text/plain": [
       "<Figure size 432x288 with 1 Axes>"
      ]
     },
     "metadata": {
      "needs_background": "light"
     },
     "output_type": "display_data"
    },
    {
     "data": {
      "image/png": "[encoded data removed]",
      "text/plain": [
       "<Figure size 432x288 with 1 Axes>"
      ]
     },
     "metadata": {
      "needs_background": "light"
     },
     "output_type": "display_data"
    },
    {
     "data": {
      "image/png": "[encoded data removed]",
      "text/plain": [
       "<Figure size 432x288 with 1 Axes>"
      ]
     },
     "metadata": {
      "needs_background": "light"
     },
     "output_type": "display_data"
    },
    {
     "data": {
      "image/png": "[encoded data removed]",
      "text/plain": [
       "<Figure size 432x288 with 1 Axes>"
      ]
     },
     "metadata": {
      "needs_background": "light"
     },
     "output_type": "display_data"
    },
    {
     "data": {
      "image/png": "[encoded data removed]",
      "text/plain": [
       "<Figure size 432x288 with 1 Axes>"
      ]
     },
     "metadata": {
      "needs_background": "light"
     },
     "output_type": "display_data"
    },
    {
     "data": {
      "image/png": "[encoded data removed]",
      "text/plain": [
       "<Figure size 432x288 with 1 Axes>"
      ]
     },
     "metadata": {
      "needs_background": "light"
     },
     "output_type": "display_data"
    }
   ],
   "source": [
    "numericals = ['energy_consumption','rent','utilities_cost','heating_cost','cost_total',\n",
    "                'area','rooms','bedrooms','bathrooms','year_built',\n",
    "                'last_renovated','latitude','longitude','floor_act',\n",
    "                'floor_max','parking_spaces']\n",
    "\n",
    "for col in numericals:\n",
    "    _ = plt.boxplot(test_df[col])\n",
    "    _ = plt.title(col)\n",
    "    plt.show()"
   ]
  },
  {
   "cell_type": "code",
   "execution_count": 6,
   "metadata": {},
   "outputs": [
    {
     "name": "stdout",
     "output_type": "stream",
     "text": [
      "<class 'pandas.core.frame.DataFrame'>\n",
      "Int64Index: 15383 entries, 0 to 16271\n",
      "Data columns (total 31 columns):\n",
      " #   Column                   Non-Null Count  Dtype  \n",
      "---  ------                   --------------  -----  \n",
      " 0   type                     14475 non-null  object \n",
      " 1   rent                     15383 non-null  float64\n",
      " 2   utilities_cost           15383 non-null  float64\n",
      " 3   heating_cost             15383 non-null  float64\n",
      " 4   cost_total               15383 non-null  float64\n",
      " 5   area                     15383 non-null  float64\n",
      " 6   rooms                    15383 non-null  float64\n",
      " 7   pets                     9721 non-null   object \n",
      " 8   condition                13181 non-null  object \n",
      " 9   quality_of_appliances    10716 non-null  object \n",
      " 10  heating_type             14184 non-null  object \n",
      " 11  energy_certificate_type  15383 non-null  object \n",
      " 12  ground_plan              15383 non-null  object \n",
      " 13  year_built               15383 non-null  int64  \n",
      " 14  last_renovated           15383 non-null  int64  \n",
      " 15  latitude                 15383 non-null  float64\n",
      " 16  longitude                15383 non-null  float64\n",
      " 17  description_location     14666 non-null  object \n",
      " 18  description_misc         12957 non-null  object \n",
      " 19  energy_sources           14730 non-null  object \n",
      " 20  bedrooms                 15383 non-null  int64  \n",
      " 21  bathrooms                15383 non-null  int64  \n",
      " 22  floor_act                15383 non-null  int64  \n",
      " 23  floor_max                15383 non-null  int64  \n",
      " 24  energy_consumption       15383 non-null  float64\n",
      " 25  city_code                15383 non-null  int64  \n",
      " 26  description_clear        14428 non-null  object \n",
      " 27  equipment_clear          14076 non-null  object \n",
      " 28  parking_spaces           15383 non-null  int64  \n",
      " 29  parking_kind             1973 non-null   object \n",
      " 30  hot_water_included       15383 non-null  object \n",
      "dtypes: float64(9), int64(8), object(14)\n",
      "memory usage: 3.8+ MB\n",
      "None\n"
     ]
    }
   ],
   "source": [
    "print(test_df.info())"
   ]
  },
  {
   "cell_type": "code",
   "execution_count": 7,
   "metadata": {},
   "outputs": [
    {
     "name": "stdout",
     "output_type": "stream",
     "text": [
      "1     15317\n",
      "2        40\n",
      "3         8\n",
      "6         6\n",
      "5         5\n",
      "9         3\n",
      "12        2\n",
      "13        1\n",
      "4         1\n",
      "Name: parking_spaces, dtype: int64\n"
     ]
    }
   ],
   "source": [
    "print(test_df.parking_spaces.value_counts(dropna=False))"
   ]
  },
  {
   "cell_type": "code",
   "execution_count": 4,
   "metadata": {},
   "outputs": [
    {
     "name": "stdout",
     "output_type": "stream",
     "text": [
      "0.850244967829526\n"
     ]
    }
   ],
   "source": [
    "import numpy as np\n",
    "import pandas as pd\n",
    "\n",
    "# Read data:\n",
    "df = pd.read_csv(\"C:/Users/test/Documents/GitHub/bachelorarbeit/_climate_change_mitigation/data/interim/berlin.csv\", na_values=['nan', np.nan])\n",
    "df = df.drop(['Unnamed: 0'], axis=1)\n",
    "\n",
    "print(sum(df['parking'].isnull()) / len(df))"
   ]
  },
  {
   "cell_type": "code",
   "execution_count": 5,
   "metadata": {},
   "outputs": [
    {
     "data": {
      "text/plain": [
       "expose_id                       0\n",
       "city                            0\n",
       "title                           0\n",
       "description                  1029\n",
       "address_1                      19\n",
       "address_2                       0\n",
       "latitude                     1869\n",
       "longitude                    1869\n",
       "floor                        1260\n",
       "type                         1041\n",
       "rent                            0\n",
       "utilities_cost                102\n",
       "heating_cost                 5472\n",
       "cost_total                      0\n",
       "deposit                       473\n",
       "area                            0\n",
       "rooms                           0\n",
       "bedrooms                     6830\n",
       "bathrooms                    4182\n",
       "energy                          0\n",
       "equipment                    1536\n",
       "parking                     14404\n",
       "pets                         6248\n",
       "year_built                    649\n",
       "last_renovated              11098\n",
       "condition                    2439\n",
       "quality_of_appliances        5104\n",
       "heating_type                 1322\n",
       "energy_sources                731\n",
       "energy_certificate           7535\n",
       "energy_certificate_type         0\n",
       "energy_consumption_value        0\n",
       "hot_water                    8919\n",
       "description_main             1029\n",
       "description_equipment        1536\n",
       "description_location          895\n",
       "description_misc             2742\n",
       "ground_plan                     0\n",
       "dtype: int64"
      ]
     },
     "execution_count": 5,
     "metadata": {},
     "output_type": "execute_result"
    }
   ],
   "source": [
    "df.isnull().sum()"
   ]
  },
  {
   "cell_type": "code",
   "execution_count": null,
   "metadata": {},
   "outputs": [],
   "source": []
  }
 ],
 "metadata": {
  "kernelspec": {
   "display_name": "Python 3",
   "language": "python",
   "name": "python3"
  },
  "language_info": {
   "codemirror_mode": {
    "name": "ipython",
    "version": 3
   },
   "file_extension": ".py",
   "mimetype": "text/x-python",
   "name": "python",
   "nbconvert_exporter": "python",
   "pygments_lexer": "ipython3",
   "version": "3.7.7"
  }
 },
 "nbformat": 4,
 "nbformat_minor": 4
}
