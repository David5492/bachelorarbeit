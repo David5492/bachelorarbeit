{
 "cells": [
  {
   "cell_type": "markdown",
   "metadata": {},
   "source": [
    "NOTIZ: Hier waren 3 Modelle noch nicht optimiert. Bzw ich hab sie im default durchlaufen lassen. Daher auch die negativen r-squares."
   ]
  },
  {
   "cell_type": "code",
   "execution_count": 7,
   "metadata": {},
   "outputs": [
    {
     "name": "stdout",
     "output_type": "stream",
     "text": [
      "                LinReg\n",
      "MAE              26.54\n",
      "MAPE (%)         38.17\n",
      "MSE            1540.47\n",
      "RMSE (Units)     39.25\n",
      "r-squared (%)    15.66\n",
      "0:00:00.982380\n"
     ]
    }
   ],
   "source": [
    "import numpy as np \n",
    "import pandas as pd \n",
    "\n",
    "import sys\n",
    "\n",
    "sys.path.append(\"C:/Users/test/Documents/GitHub/bachelorarbeit/_climate_change_mitigation/_climate_change_mitigation\")\n",
    "\n",
    "from loaders import load_split\n",
    "from modellers import regressors\n",
    "from ensemblers import stacker\n",
    "from modellers.validation_metric import total_validation \n",
    "\n",
    "from datetime import datetime\n",
    "\n",
    "start = datetime.now()\n",
    "\n",
    "# Load and Split clean Data:\n",
    "X_train, X_test, y_train, y_test = load_split.load_split()\n",
    "\n",
    "# open grand_validation\n",
    "grand_validation_LinReg = pd.DataFrame()\n",
    "\n",
    "\n",
    "\n",
    "# Prdict values:\n",
    "y_pred_LinReg = regressors.LinReg(X_train, X_test, y_train, y_test)\n",
    "\n",
    "# validate\n",
    "single_validation_LinReg = total_validation(y_test, y_pred_LinReg)\n",
    "single_validation_LinReg.columns = ['LinReg']\n",
    "print(single_validation_LinReg)\n",
    "\n",
    "# append total validation to grand validation\n",
    "grand_validation = pd.concat([grand_validation, single_validation_LinReg], axis=1)\n",
    "\n",
    "stop = datetime.now()\n",
    "print(str(stop - start)) #just4fun"
   ]
  },
  {
   "cell_type": "code",
   "execution_count": 8,
   "metadata": {},
   "outputs": [
    {
     "name": "stdout",
     "output_type": "stream",
     "text": [
      "                 ENReg\n",
      "MAE              29.04\n",
      "MAPE (%)         39.98\n",
      "MSE            1855.53\n",
      "RMSE (Units)     43.08\n",
      "r-squared (%)    -1.60\n",
      "0:00:08.328503\n"
     ]
    }
   ],
   "source": [
    "# Prdict values:\n",
    "y_pred_ENReg = regressors.ENReg(X_train, X_test, y_train, y_test)\n",
    "\n",
    "# validate\n",
    "single_validation_ENReg = total_validation(y_test, y_pred_ENReg)\n",
    "single_validation_ENReg.columns = ['ENReg']\n",
    "print(single_validation_ENReg)\n",
    "\n",
    "# append total validation to grand validation\n",
    "grand_validation = pd.concat([grand_validation, single_validation_ENReg], axis=1)\n",
    "\n",
    "stop = datetime.now()\n",
    "print(str(stop - start)) #just4fun"
   ]
  },
  {
   "cell_type": "code",
   "execution_count": 9,
   "metadata": {},
   "outputs": [
    {
     "name": "stdout",
     "output_type": "stream",
     "text": [
      "                 NNReg\n",
      "MAE              25.99\n",
      "MAPE (%)         36.33\n",
      "MSE            1972.59\n",
      "RMSE (Units)     44.41\n",
      "r-squared (%)    -8.00\n",
      "0:00:10.539590\n"
     ]
    }
   ],
   "source": [
    "# Prdict values:\n",
    "y_pred_NNReg = regressors.NNReg(X_train, X_test, y_train, y_test)\n",
    "\n",
    "# validate\n",
    "single_validation_NNReg = total_validation(y_test, y_pred_NNReg)\n",
    "single_validation_NNReg.columns = ['NNReg']\n",
    "print(single_validation_NNReg)\n",
    "\n",
    "# append total validation to grand validation\n",
    "grand_validation = pd.concat([grand_validation, single_validation_NNReg], axis=1)\n",
    "\n",
    "stop = datetime.now()\n",
    "print(str(stop - start)) #just4fun"
   ]
  },
  {
   "cell_type": "code",
   "execution_count": 10,
   "metadata": {},
   "outputs": [
    {
     "name": "stdout",
     "output_type": "stream",
     "text": [
      "               RandomForestReg\n",
      "MAE                      18.46\n",
      "MAPE (%)                 30.53\n",
      "MSE                     889.05\n",
      "RMSE (Units)             29.82\n",
      "r-squared (%)            51.32\n",
      "0:01:33.009993\n"
     ]
    }
   ],
   "source": [
    "# Prdict values:\n",
    "y_pred_RandomForestReg = regressors.RandomForestReg(X_train, X_test, y_train, y_test)\n",
    "\n",
    "# validate\n",
    "single_validation_RandomForestReg = total_validation(y_test, y_pred_RandomForestReg)\n",
    "single_validation_RandomForestReg.columns = ['RandomForestReg']\n",
    "print(single_validation_RandomForestReg)\n",
    "\n",
    "# append total validation to grand validation\n",
    "grand_validation = pd.concat([grand_validation, single_validation_RandomForestReg], axis=1)\n",
    "\n",
    "stop = datetime.now()\n",
    "print(str(stop - start)) #just4fun"
   ]
  },
  {
   "cell_type": "code",
   "execution_count": 14,
   "metadata": {},
   "outputs": [
    {
     "name": "stdout",
     "output_type": "stream",
     "text": [
      "                SVMReg\n",
      "MAE              29.98\n",
      "MAPE (%)         37.57\n",
      "MSE            2153.99\n",
      "RMSE (Units)     46.41\n",
      "r-squared (%)   -17.94\n",
      "0:08:44.688091\n"
     ]
    },
    {
     "name": "stderr",
     "output_type": "stream",
     "text": [
      "C:\\Users\\test\\anaconda3\\lib\\site-packages\\sklearn\\svm\\_base.py:947: ConvergenceWarning: Liblinear failed to converge, increase the number of iterations.\n",
      "  \"the number of iterations.\", ConvergenceWarning)\n"
     ]
    }
   ],
   "source": [
    "# Prdict values:\n",
    "y_pred_SVMReg = regressors.SVMReg(X_train, X_test, y_train, y_test)\n",
    "\n",
    "# validate\n",
    "single_validation_SVMReg = total_validation(y_test, y_pred_SVMReg)\n",
    "single_validation_SVMReg.columns = ['SVMReg']\n",
    "print(single_validation_SVMReg)\n",
    "\n",
    "# append total validation to grand validation\n",
    "grand_validation = pd.concat([grand_validation, single_validation_SVMReg], axis=1)\n",
    "\n",
    "stop = datetime.now()\n",
    "print(str(stop - start)) #just4fun"
   ]
  },
  {
   "cell_type": "code",
   "execution_count": 15,
   "metadata": {},
   "outputs": [
    {
     "name": "stderr",
     "output_type": "stream",
     "text": [
      "C:\\Users\\test\\anaconda3\\lib\\site-packages\\sklearn\\svm\\_base.py:947: ConvergenceWarning: Liblinear failed to converge, increase the number of iterations.\n",
      "  \"the number of iterations.\", ConvergenceWarning)\n",
      "C:\\Users\\test\\anaconda3\\lib\\site-packages\\sklearn\\svm\\_base.py:947: ConvergenceWarning: Liblinear failed to converge, increase the number of iterations.\n",
      "  \"the number of iterations.\", ConvergenceWarning)\n",
      "C:\\Users\\test\\anaconda3\\lib\\site-packages\\sklearn\\svm\\_base.py:947: ConvergenceWarning: Liblinear failed to converge, increase the number of iterations.\n",
      "  \"the number of iterations.\", ConvergenceWarning)\n",
      "C:\\Users\\test\\anaconda3\\lib\\site-packages\\sklearn\\svm\\_base.py:947: ConvergenceWarning: Liblinear failed to converge, increase the number of iterations.\n",
      "  \"the number of iterations.\", ConvergenceWarning)\n",
      "C:\\Users\\test\\anaconda3\\lib\\site-packages\\sklearn\\svm\\_base.py:947: ConvergenceWarning: Liblinear failed to converge, increase the number of iterations.\n",
      "  \"the number of iterations.\", ConvergenceWarning)\n",
      "C:\\Users\\test\\anaconda3\\lib\\site-packages\\sklearn\\svm\\_base.py:947: ConvergenceWarning: Liblinear failed to converge, increase the number of iterations.\n",
      "  \"the number of iterations.\", ConvergenceWarning)\n"
     ]
    },
    {
     "name": "stdout",
     "output_type": "stream",
     "text": [
      "               Stacker\n",
      "MAE              21.40\n",
      "MAPE (%)         28.61\n",
      "MSE            1172.81\n",
      "RMSE (Units)     34.25\n",
      "r-squared (%)    35.79\n",
      "0:16:01.246437\n"
     ]
    }
   ],
   "source": [
    "# Prdict values:\n",
    "y_pred_Stacker = stacker.stacker(X_train, X_test, y_train, y_test)\n",
    "\n",
    "# validate\n",
    "single_validation_Stacker = total_validation(y_test, y_pred_Stacker)\n",
    "single_validation_Stacker.columns = ['Stacker']\n",
    "print(single_validation_Stacker)\n",
    "\n",
    "# append total validation to grand validation\n",
    "grand_validation = pd.concat([grand_validation, single_validation_Stacker], axis=1)\n",
    "\n",
    "stop = datetime.now()\n",
    "print(str(stop - start)) #just4fun"
   ]
  },
  {
   "cell_type": "code",
   "execution_count": 16,
   "metadata": {},
   "outputs": [
    {
     "name": "stdout",
     "output_type": "stream",
     "text": [
      "                LinReg    ENReg    NNReg  RandomForestReg   SVMReg  Stacker  \\\n",
      "MAE              26.54    29.04    25.99            18.46    29.98    21.40   \n",
      "MAPE (%)         38.17    39.98    36.33            30.53    37.57    28.61   \n",
      "MSE            1540.47  1855.53  1972.59           889.05  2153.99  1172.81   \n",
      "RMSE (Units)     39.25    43.08    44.41            29.82    46.41    34.25   \n",
      "r-squared (%)    15.66    -1.60    -8.00            51.32   -17.94    35.79   \n",
      "\n",
      "               Stacker    ENReg    NNReg  RandomForestReg   LinReg    ENReg  \\\n",
      "MAE              21.40    29.04    25.99            18.46    26.54    29.04   \n",
      "MAPE (%)         28.61    39.98    36.33            30.53    38.17    39.98   \n",
      "MSE            1172.81  1855.53  1972.59           889.05  1540.47  1855.53   \n",
      "RMSE (Units)     34.25    43.08    44.41            29.82    39.25    43.08   \n",
      "r-squared (%)    35.79    -1.60    -8.00            51.32    15.66    -1.60   \n",
      "\n",
      "                 NNReg  RandomForestReg   SVMReg  Stacker   SVMReg  Stacker  \n",
      "MAE              25.99            18.46    29.98    21.40    29.98    21.40  \n",
      "MAPE (%)         36.33            30.53    37.57    28.61    37.57    28.61  \n",
      "MSE            1972.59           889.05  2153.99  1172.81  2153.99  1172.81  \n",
      "RMSE (Units)     44.41            29.82    46.41    34.25    46.41    34.25  \n",
      "r-squared (%)    -8.00            51.32   -17.94    35.79   -17.94    35.79  \n"
     ]
    }
   ],
   "source": [
    "print(grand_validation)"
   ]
  },
  {
   "cell_type": "markdown",
   "metadata": {},
   "source": [
    "Das war so klar: Ich hab geschludert. Trotzdem wichtige Erkenntnis: Diese Fehlermeldung kommt nur bei SVMReg und beim Stacker. "
   ]
  },
  {
   "cell_type": "code",
   "execution_count": null,
   "metadata": {},
   "outputs": [],
   "source": []
  }
 ],
 "metadata": {
  "kernelspec": {
   "display_name": "Python 3",
   "language": "python",
   "name": "python3"
  },
  "language_info": {
   "codemirror_mode": {
    "name": "ipython",
    "version": 3
   },
   "file_extension": ".py",
   "mimetype": "text/x-python",
   "name": "python",
   "nbconvert_exporter": "python",
   "pygments_lexer": "ipython3",
   "version": "3.7.7"
  }
 },
 "nbformat": 4,
 "nbformat_minor": 4
}
